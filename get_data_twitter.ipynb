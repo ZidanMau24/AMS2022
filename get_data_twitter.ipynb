{
  "nbformat": 4,
  "nbformat_minor": 0,
  "metadata": {
    "colab": {
      "provenance": [],
      "collapsed_sections": [],
      "authorship_tag": "ABX9TyMegSRxAfB9pubjXcNh+UuV",
      "include_colab_link": true
    },
    "kernelspec": {
      "name": "python3",
      "display_name": "Python 3"
    },
    "language_info": {
      "name": "python"
    }
  },
  "cells": [
    {
      "cell_type": "markdown",
      "metadata": {
        "id": "view-in-github",
        "colab_type": "text"
      },
      "source": [
        "<a href=\"https://colab.research.google.com/github/ZidanMau24/AMS2022/blob/main/get_data_twitter.ipynb\" target=\"_parent\"><img src=\"https://colab.research.google.com/assets/colab-badge.svg\" alt=\"Open In Colab\"/></a>"
      ]
    },
    {
      "cell_type": "code",
      "execution_count": null,
      "metadata": {
        "id": "Bl7ycDTJmwVY"
      },
      "outputs": [],
      "source": [
        "import pandas as pd\n",
        "import time\n",
        "import tweepy\n",
        "import numpy as np"
      ]
    },
    {
      "cell_type": "code",
      "source": [
        "api_key=\"7dvt2XWTZiTbY5PKIdvMOFDBg\"\n",
        "api_key_secret=\"BBFQRRU1olPqAGuqYH8gQubGqZlYdEuqy5Bv2uli6FIXk4wYKd\"\n",
        "token_key=\"477533417-SxY89uZMEMEPZNrd2uVYEVrvWxGR2vZ01ZhUthJS\"\n",
        "token_secret=\"EshxVZGoJQp467yTg0AeCSAFU3rLajTF7ujd4UX1rNnW2\""
      ],
      "metadata": {
        "id": "SzAqrXe0xm4D"
      },
      "execution_count": null,
      "outputs": []
    },
    {
      "cell_type": "code",
      "execution_count": null,
      "metadata": {
        "id": "HTdqtjUbmI8P"
      },
      "outputs": [],
      "source": [
        "def twitter_config():\n",
        "    \"\"\"\n",
        "    Fungsi utilitas untuk mengkonfigurasi konsumsi file API Twitter dengan␣\n",
        "    ,!kunci yang disediakan.\n",
        "    \"\"\"\n",
        "    # Otentikasi dan akses menggunakan kunci:\n",
        "    auth = tweepy.OAuthHandler(api_key,\n",
        "    api_key_secret)\n",
        "    auth.set_access_token(token_key,\n",
        "    token_secret)\n",
        "    # Kembalikan akses ke API:\n",
        "    api = tweepy.API(auth)\n",
        "    try:\n",
        "        api.verify_credentials()\n",
        "        print(\"Authentication OK\")\n",
        "    except:\n",
        "        print(\"Error during authentication\")\n",
        "    return api"
      ]
    },
    {
      "cell_type": "code",
      "source": [
        "extractor = twitter_config()"
      ],
      "metadata": {
        "colab": {
          "base_uri": "https://localhost:8080/"
        },
        "id": "ZsfiJKMMzfxx",
        "outputId": "296c352b-2f0b-4ce7-abd8-710ae960dd30"
      },
      "execution_count": null,
      "outputs": [
        {
          "output_type": "stream",
          "name": "stdout",
          "text": [
            "Authentication OK\n"
          ]
        }
      ]
    },
    {
      "cell_type": "code",
      "source": [
        "tweets = []\n",
        "\n",
        "def text_query_to_csv(text_query,count):\n",
        "    try:\n",
        "        # Creation of query method using parameters\n",
        "        tweets = tweepy.Cursor(extractor.search,q=text_query).items(count)\n",
        "\n",
        "        # Pulling information from tweets iterable object\n",
        "        tweets_list = [[tweet.created_at, tweet.id, tweet.text, tweet.source, tweet.favorite_count, tweet.retweet_count] for tweet in tweets]\n",
        "\n",
        "        # Creation of dataframe from tweets list\n",
        "        # Add or remove columns as you remove tweet information\n",
        "        tweets_df = pd.DataFrame(tweets_list,columns=['Datetime', 'Tweet Id', 'Text','Source','Likes', 'RT'])\n",
        "\n",
        "        # Converting dataframe to CSV \n",
        "        tweets_df.to_csv('{}-tweets.csv'.format(text_query), sep=',', index = False)\n",
        "\n",
        "    except BaseException as e:\n",
        "        print('failed on_status,',str(e))\n",
        "        time.sleep(3)"
      ],
      "metadata": {
        "id": "xfUF7CvQ6vbD"
      },
      "execution_count": null,
      "outputs": []
    },
    {
      "cell_type": "code",
      "source": [
        "# Input search query to scrape tweets and name csv file\n",
        "# Max recent tweets pulls x amount of most recent tweets from that user\n",
        "text_query = 'PrayForKanjuruhan'\n",
        "count = 100\n",
        "\n",
        "# Calling function to query X amount of relevant tweets and create a CSV file\n",
        "text_query_to_csv(text_query, count)"
      ],
      "metadata": {
        "id": "ngRcdRxN8LGD"
      },
      "execution_count": null,
      "outputs": []
    }
  ]
}